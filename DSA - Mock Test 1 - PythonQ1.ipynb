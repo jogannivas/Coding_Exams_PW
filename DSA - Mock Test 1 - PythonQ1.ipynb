{
 "cells": [
  {
   "cell_type": "code",
   "execution_count": 8,
   "id": "497c846e-1baf-4bc8-a721-e50ac6844ccb",
   "metadata": {},
   "outputs": [],
   "source": [
    "def moving(arr):\n",
    "    n = len(arr)\n",
    "    left = 0  \n",
    "\n",
    "    \n",
    "    for i in range(n):\n",
    "        if arr[i] != 0:\n",
    "            arr[left] = arr[i]\n",
    "            left += 1\n",
    "\n",
    "\n",
    "    while left < n:\n",
    "        arr[left] = 00\n",
    "        left += 1\n",
    "\n",
    "    return arr\n"
   ]
  },
  {
   "cell_type": "code",
   "execution_count": 5,
   "id": "ae1a6c49-cc02-4f65-a864-a0344d21ae0d",
   "metadata": {},
   "outputs": [
    {
     "data": {
      "text/plain": [
       "[1, 5, 6, 4, 12, 0, 0, 0]"
      ]
     },
     "execution_count": 5,
     "metadata": {},
     "output_type": "execute_result"
    }
   ],
   "source": [
    "\n",
    "a=[1,0,5,6,0,4,0,12]\n",
    "moving(a)"
   ]
  },
  {
   "cell_type": "code",
   "execution_count": null,
   "id": "8d41e5c7-a58c-4253-82ed-03753726dba2",
   "metadata": {},
   "outputs": [],
   "source": []
  }
 ],
 "metadata": {
  "kernelspec": {
   "display_name": "Python 3 (ipykernel)",
   "language": "python",
   "name": "python3"
  },
  "language_info": {
   "codemirror_mode": {
    "name": "ipython",
    "version": 3
   },
   "file_extension": ".py",
   "mimetype": "text/x-python",
   "name": "python",
   "nbconvert_exporter": "python",
   "pygments_lexer": "ipython3",
   "version": "3.10.6"
  }
 },
 "nbformat": 4,
 "nbformat_minor": 5
}
