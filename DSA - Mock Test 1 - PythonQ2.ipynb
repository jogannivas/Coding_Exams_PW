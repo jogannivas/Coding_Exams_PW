{
 "cells": [
  {
   "cell_type": "code",
   "execution_count": 12,
   "id": "79a23048-de49-40ea-b267-b579db3c645a",
   "metadata": {},
   "outputs": [],
   "source": [
    "def first(s):\n",
    "    num_of_char= {}\n",
    "    \n",
    "  \n",
    "    for char in s:\n",
    "        if char in  num_of_char:\n",
    "            num_of_char[char] += 1\n",
    "        else:\n",
    "             num_of_char[char] = 1\n",
    "    \n",
    "   \n",
    "    for i, char in enumerate(s):\n",
    "        if  num_of_char[char] == 1:\n",
    "            return i\n",
    "    \n",
    "    return -1  \n",
    "\n"
   ]
  },
  {
   "cell_type": "code",
   "execution_count": 13,
   "id": "5c2219f2-ded5-4c96-ac6c-43d98f16b732",
   "metadata": {},
   "outputs": [
    {
     "data": {
      "text/plain": [
       "-1"
      ]
     },
     "execution_count": 13,
     "metadata": {},
     "output_type": "execute_result"
    }
   ],
   "source": [
    "s = \"aabb\"\n",
    "first(s)"
   ]
  },
  {
   "cell_type": "code",
   "execution_count": 14,
   "id": "c0383ee5-c4a1-4fa2-871c-2e5432d5776a",
   "metadata": {},
   "outputs": [
    {
     "data": {
      "text/plain": [
       "2"
      ]
     },
     "execution_count": 14,
     "metadata": {},
     "output_type": "execute_result"
    }
   ],
   "source": [
    " s = \"loveleetcode\"\n",
    "first(s)"
   ]
  },
  {
   "cell_type": "code",
   "execution_count": null,
   "id": "89cfd279-34a4-4176-8723-d39d1791373c",
   "metadata": {},
   "outputs": [],
   "source": []
  }
 ],
 "metadata": {
  "kernelspec": {
   "display_name": "Python 3 (ipykernel)",
   "language": "python",
   "name": "python3"
  },
  "language_info": {
   "codemirror_mode": {
    "name": "ipython",
    "version": 3
   },
   "file_extension": ".py",
   "mimetype": "text/x-python",
   "name": "python",
   "nbconvert_exporter": "python",
   "pygments_lexer": "ipython3",
   "version": "3.10.6"
  }
 },
 "nbformat": 4,
 "nbformat_minor": 5
}
